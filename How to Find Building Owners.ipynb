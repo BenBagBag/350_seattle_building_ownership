{
 "cells": [
  {
   "attachments": {},
   "cell_type": "markdown",
   "metadata": {},
   "source": [
    "# Finding Building Owners\n",
    "\n",
    "Research question: who owns the largest buildings in Seattle? How much pollution are those buildings responsible for?\n",
    "\n",
    "Research challenge: We have a dataset of large buildings (>20k sq ft) and their carbon footprint from the [City of Seattle's Office of Sustainability and the Environment](https://www.seattle.gov/environment/climate-change/buildings-and-energy/energy-benchmarking). This means that we can group those buildings by owner and determine the carbon footprint of each owner. However,the City of Seattle does not provide us with the owners of buildings in the carbon benchmarking dataset. Without this data, we can't determine which companies have the largest environmental impact on Seattle. Moreover, the companies listed as building owners in the King County property database are often shell companies. There is no database where you can look up the parent company for a shell company. There is also no reliable way to find a parent company's shell companies (though this assumes you're looking for buildings owned by one particular company).\n",
    "\n",
    "For the purpose of the report, we focused our search on buildings in the downtown neighborhood that are over 100 sq. ft. We decided this for political reasons but also because downtown is where a significant portion of the largest buildings in Seattle are located, and larger buildings seemed to on average have higher carbon emissions intensities. The benefit of extensible code is that we can change our minds at any time and select a different subset of the data (perhaps we want to consider a particular council district) and have results within a few minutes. \n",
    "\n",
    "\n",
    "**Vocabulary used in this tutorial**\n",
    "\n",
    "- [Corporations and Charities Filings System](https://www.sos.wa.gov/corporations-charities): a publicly-available government database listing all companies and non-profits in Washington State.\n",
    "- [eRealProperty](https://blue.kingcounty.com/Assessor/eRealProperty/default.aspx): a publicly-available government database that lists the owners of all real estate parcels in King County (where Seattle is located).\n",
    "- Parent company: a company that owns subsidiary companies.\n",
    "- Principal: a person who is an officer or director of a company. A company must list at least one principal to be incorporated.\n",
    "- Shell company: a company owned by a parent company that disguises its relationship with that parent company. Creating a different shell company for every building owned by a parent company is a common tactic to hide the extent of a company's real estate holdings.\n",
    "- Tax parcel owner: the result of looking up an address in eRealProperty. Also referred to as the building owner in this tutorial. \n",
    "\n",
    "Finding a building's owner is then a three-step process:\n",
    "\n",
    "0. Get a list of buildings that you want to determine ownership for. In our use case, we are looking at buildings listed in Seattle's Office of Sustainability's (OSE) building emissions reports. \n",
    "1. Find the parcel owner for the lot the building is on, using the eRealProperty website. \n",
    "2. Given the parcel owner from Step 1, search the Washington State Corporations and Charities Filings database for that company and collect the company's principals.\n",
    "3. Search the company principals on Google and see what company they work for based on Linkedin, business journal articles, etc. Whichever company they all work for (or worked for most recently) is the parent company that owns the building.\n",
    "\n",
    "A note on methodology: parent companies re-use the same people as principals for their shell companies again and again. The principals also tend to stay with a company for a long time. This is why searching for the current or most recent employer for each of the principals will get you the parent company in most cases. Where this doesn't work, some digging and a bit of common sense (when was the company incorporated? Where were these people working at that time, according to Linkedin?) will get you the rest of the way.\n",
    "\n",
    "Steps 1 and 2 are done programmatically. Step 3 is done by hand. The steps are outlined below."
   ]
  },
  {
   "cell_type": "code",
   "execution_count": 22,
   "metadata": {},
   "outputs": [],
   "source": [
    "# Be sure to run `pip install -r requirements.txt` in the root directory\n",
    "from utils import corp_owners\n",
    "from utils import geo\n",
    "from utils import parcel_owners"
   ]
  },
  {
   "cell_type": "code",
   "execution_count": 23,
   "metadata": {},
   "outputs": [],
   "source": [
    "import pandas as pd\n",
    "import numpy as np\n",
    "import requests\n",
    "import json\n",
    "import os\n",
    "import re\n",
    "import geopandas as gp\n",
    "import urllib.parse"
   ]
  },
  {
   "attachments": {},
   "cell_type": "markdown",
   "metadata": {},
   "source": [
    "# Step 0: Clean up Seattle OSE Data and Identify Buildings of Interest\n",
    "Seattle's [Office of Sustainability and Environment](https://www.seattle.gov/environment) has released emissions data for buildings in the city from 2015 to 2021. Building owners over 20,000 sq.ft. are required to self-report annually to the city of Seattle. Features of the data include:\n",
    "- building name\n",
    "- address\n",
    "- tax parcel identification number\n",
    "- council district the building is located within\n",
    "- buliding type\n",
    "- different metrics for emissions. \n",
    "More metadata about the energy benchmarking datasets can be found [here](https://data.seattle.gov/Community/2021-Building-Energy-Benchmarking/bfsh-nrm6).\n",
    "\n",
    "When doing initial exploratory analysis, we noticed that not all of the council district codes were correct. To rectify this we got the official council district boundaries form [Seattle GeoData Portal](https://data-seattlecitygis.opendata.arcgis.com/datasets/seattle-city-council-districts-for-council-members-serving-through-2023/explore) in the form of a geojson file [`Council_Districts.geojson`](../../../data/Council_Districts.geojson). For each address in the OSE building efficiency dataset, we convert it to a (latitude, longitude) point and confirmed with which council distirct it belonged to. To learn more, refer to `utils/corp_owners.py`."
   ]
  },
  {
   "cell_type": "code",
   "execution_count": 6,
   "metadata": {
    "collapsed": true,
    "jupyter": {
     "outputs_hidden": true
    }
   },
   "outputs": [
    {
     "name": "stdout",
     "output_type": "stream",
     "text": [
      "Building UNION HARBOR CONDOMINIUM 454/ 8807200000 doesn't have a district POINT (-122.33003 47.6401) \n",
      "\t Found district 4 for UNION HARBOR CONDOMINIUM\n",
      "Building WATERWORKS OFFICE & MARINA 1494/ 4088803975 doesn't have a district POINT (-122.33895 47.63575) \n",
      "\t Found district 7 for WATERWORKS OFFICE & MARINA\n",
      "Building NAUTICAL LANDING 1742/ 4088804350 doesn't have a district POINT (-122.34219 47.64306) \n",
      "\t Found district 7 for NAUTICAL LANDING\n",
      "Building THE PIER AT LESCHI 3453/ 6780900000 doesn't have a district POINT (-122.28563 47.59926) \n",
      "\t Found district 3 for THE PIER AT LESCHI\n",
      "Building EDUCARE 3496/ 2895800030 doesn't have a district POINT EMPTY \n",
      "Building THE LAKESHORE 3506/ 1180001715 doesn't have a district POINT EMPTY \n"
     ]
    }
   ],
   "source": [
    "# Clean the OSE dataset \n",
    "df_districts = gp.read_file('data/raw_input/Council_Districts.geojson')\n",
    "df = pd.read_csv('data/raw_input/2020_Building_Energy_Benchmarking.csv')\n",
    "df = gp.GeoDataFrame(df, geometry=gp.points_from_xy(df.Longitude, df.Latitude))\n",
    "geo.clean_districts(df, df_districts)\n",
    "\n",
    "# Get all the buildings in the downtown neighborhood\n",
    "# Note this is a slightly different bounds than council districts\n",
    "df_filtered = df.loc[df['Neighborhood'] == \"DOWNTOWN\"]"
   ]
  },
  {
   "cell_type": "code",
   "execution_count": 7,
   "metadata": {},
   "outputs": [
    {
     "data": {
      "text/html": [
       "<div>\n",
       "<style scoped>\n",
       "    .dataframe tbody tr th:only-of-type {\n",
       "        vertical-align: middle;\n",
       "    }\n",
       "\n",
       "    .dataframe tbody tr th {\n",
       "        vertical-align: top;\n",
       "    }\n",
       "\n",
       "    .dataframe thead th {\n",
       "        text-align: right;\n",
       "    }\n",
       "</style>\n",
       "<table border=\"1\" class=\"dataframe\">\n",
       "  <thead>\n",
       "    <tr style=\"text-align: right;\">\n",
       "      <th></th>\n",
       "      <th>OSEBuildingID</th>\n",
       "      <th>TaxParcelIdentificationNumber</th>\n",
       "      <th>DataYear</th>\n",
       "      <th>BuildingType</th>\n",
       "      <th>BuildingName</th>\n",
       "      <th>Owner</th>\n",
       "      <th>CouncilDistrictCode</th>\n",
       "      <th>Neighborhood</th>\n",
       "      <th>Units</th>\n",
       "      <th>YearBuilt</th>\n",
       "      <th>...</th>\n",
       "      <th>SecondLargestPropertyUseTypeGFA</th>\n",
       "      <th>ThirdLargestPropertyUseType</th>\n",
       "      <th>ThirdLargestPropertyUseTypeGFA</th>\n",
       "      <th>Outlier</th>\n",
       "      <th>ComplianceIssue</th>\n",
       "      <th>ComplianceStatus</th>\n",
       "      <th>Comments</th>\n",
       "      <th>DefaultData</th>\n",
       "      <th>LegislationPropertyType</th>\n",
       "      <th>geometry</th>\n",
       "    </tr>\n",
       "  </thead>\n",
       "  <tbody>\n",
       "    <tr>\n",
       "      <th>2</th>\n",
       "      <td>50160</td>\n",
       "      <td>659000775</td>\n",
       "      <td>2020</td>\n",
       "      <td>NonResidential</td>\n",
       "      <td>AMAZON DOPPLER BUILDING</td>\n",
       "      <td>ACORN DEVELOPMENT LLC</td>\n",
       "      <td>7.0</td>\n",
       "      <td>DOWNTOWN</td>\n",
       "      <td>NaN</td>\n",
       "      <td>2016</td>\n",
       "      <td>...</td>\n",
       "      <td>448625.0</td>\n",
       "      <td>Convention Center</td>\n",
       "      <td>59672.0</td>\n",
       "      <td>NaN</td>\n",
       "      <td>No Issue</td>\n",
       "      <td>Compliant</td>\n",
       "      <td>NaN</td>\n",
       "      <td>NaN</td>\n",
       "      <td>Office</td>\n",
       "      <td>POINT (-122.33835 47.61523)</td>\n",
       "    </tr>\n",
       "    <tr>\n",
       "      <th>4</th>\n",
       "      <td>50192</td>\n",
       "      <td>660001605</td>\n",
       "      <td>2020</td>\n",
       "      <td>NonResidential</td>\n",
       "      <td>MIDTOWN 21 (AMAZON)</td>\n",
       "      <td>MIDTOWN21 LLC</td>\n",
       "      <td>7.0</td>\n",
       "      <td>DOWNTOWN</td>\n",
       "      <td>NaN</td>\n",
       "      <td>2016</td>\n",
       "      <td>...</td>\n",
       "      <td>110813.0</td>\n",
       "      <td>NaN</td>\n",
       "      <td>NaN</td>\n",
       "      <td>NaN</td>\n",
       "      <td>No Issue</td>\n",
       "      <td>Compliant</td>\n",
       "      <td>NaN</td>\n",
       "      <td>NaN</td>\n",
       "      <td>Office</td>\n",
       "      <td>POINT (-122.33304 47.61632)</td>\n",
       "    </tr>\n",
       "    <tr>\n",
       "      <th>13</th>\n",
       "      <td>50304</td>\n",
       "      <td>660002125</td>\n",
       "      <td>2020</td>\n",
       "      <td>Multifamily HR (10+)</td>\n",
       "      <td>KINECTS TOWER</td>\n",
       "      <td>1823 MINOR WPT LLC +1823 MINOR MM LLC</td>\n",
       "      <td>7.0</td>\n",
       "      <td>DOWNTOWN</td>\n",
       "      <td>NaN</td>\n",
       "      <td>1970</td>\n",
       "      <td>...</td>\n",
       "      <td>117664.0</td>\n",
       "      <td>NaN</td>\n",
       "      <td>NaN</td>\n",
       "      <td>NaN</td>\n",
       "      <td>No Issue</td>\n",
       "      <td>Compliant</td>\n",
       "      <td>NaN</td>\n",
       "      <td>NaN</td>\n",
       "      <td>Multifamily Housing</td>\n",
       "      <td>POINT (-122.33151 47.61711)</td>\n",
       "    </tr>\n",
       "    <tr>\n",
       "      <th>31</th>\n",
       "      <td>50172</td>\n",
       "      <td>524780-0100</td>\n",
       "      <td>2020</td>\n",
       "      <td>Multifamily MR (5-9)</td>\n",
       "      <td>80 MAIN APARTMENTS</td>\n",
       "      <td>NOT FOUND</td>\n",
       "      <td>7.0</td>\n",
       "      <td>DOWNTOWN</td>\n",
       "      <td>NaN</td>\n",
       "      <td>2016</td>\n",
       "      <td>...</td>\n",
       "      <td>1136.0</td>\n",
       "      <td>NaN</td>\n",
       "      <td>NaN</td>\n",
       "      <td>NaN</td>\n",
       "      <td>No Issue</td>\n",
       "      <td>Compliant</td>\n",
       "      <td>NaN</td>\n",
       "      <td>NaN</td>\n",
       "      <td>Multifamily Housing</td>\n",
       "      <td>POINT (-122.33508 47.60024)</td>\n",
       "    </tr>\n",
       "    <tr>\n",
       "      <th>40</th>\n",
       "      <td>50322</td>\n",
       "      <td>695000225</td>\n",
       "      <td>2020</td>\n",
       "      <td>Multifamily MR (5-9)</td>\n",
       "      <td>MINNIE FLATS</td>\n",
       "      <td>101 DENNY LLC</td>\n",
       "      <td>7.0</td>\n",
       "      <td>DOWNTOWN</td>\n",
       "      <td>NaN</td>\n",
       "      <td>2016</td>\n",
       "      <td>...</td>\n",
       "      <td>NaN</td>\n",
       "      <td>NaN</td>\n",
       "      <td>NaN</td>\n",
       "      <td>NaN</td>\n",
       "      <td>No Issue</td>\n",
       "      <td>Compliant</td>\n",
       "      <td>NaN</td>\n",
       "      <td>NaN</td>\n",
       "      <td>Multifamily Housing</td>\n",
       "      <td>POINT (-122.35480 47.61860)</td>\n",
       "    </tr>\n",
       "  </tbody>\n",
       "</table>\n",
       "<p>5 rows × 53 columns</p>\n",
       "</div>"
      ],
      "text/plain": [
       "    OSEBuildingID TaxParcelIdentificationNumber  DataYear  \\\n",
       "2           50160                     659000775      2020   \n",
       "4           50192                     660001605      2020   \n",
       "13          50304                     660002125      2020   \n",
       "31          50172                   524780-0100      2020   \n",
       "40          50322                     695000225      2020   \n",
       "\n",
       "            BuildingType             BuildingName  \\\n",
       "2         NonResidential  AMAZON DOPPLER BUILDING   \n",
       "4         NonResidential      MIDTOWN 21 (AMAZON)   \n",
       "13  Multifamily HR (10+)            KINECTS TOWER   \n",
       "31  Multifamily MR (5-9)       80 MAIN APARTMENTS   \n",
       "40  Multifamily MR (5-9)             MINNIE FLATS   \n",
       "\n",
       "                                    Owner  CouncilDistrictCode Neighborhood  \\\n",
       "2                   ACORN DEVELOPMENT LLC                  7.0     DOWNTOWN   \n",
       "4                           MIDTOWN21 LLC                  7.0     DOWNTOWN   \n",
       "13  1823 MINOR WPT LLC +1823 MINOR MM LLC                  7.0     DOWNTOWN   \n",
       "31                              NOT FOUND                  7.0     DOWNTOWN   \n",
       "40                          101 DENNY LLC                  7.0     DOWNTOWN   \n",
       "\n",
       "   Units  YearBuilt  ... SecondLargestPropertyUseTypeGFA  \\\n",
       "2    NaN       2016  ...                        448625.0   \n",
       "4    NaN       2016  ...                        110813.0   \n",
       "13   NaN       1970  ...                        117664.0   \n",
       "31   NaN       2016  ...                          1136.0   \n",
       "40   NaN       2016  ...                             NaN   \n",
       "\n",
       "   ThirdLargestPropertyUseType ThirdLargestPropertyUseTypeGFA  Outlier  \\\n",
       "2            Convention Center                        59672.0      NaN   \n",
       "4                          NaN                            NaN      NaN   \n",
       "13                         NaN                            NaN      NaN   \n",
       "31                         NaN                            NaN      NaN   \n",
       "40                         NaN                            NaN      NaN   \n",
       "\n",
       "    ComplianceIssue  ComplianceStatus  Comments  DefaultData  \\\n",
       "2          No Issue         Compliant       NaN          NaN   \n",
       "4          No Issue         Compliant       NaN          NaN   \n",
       "13         No Issue         Compliant       NaN          NaN   \n",
       "31         No Issue         Compliant       NaN          NaN   \n",
       "40         No Issue         Compliant       NaN          NaN   \n",
       "\n",
       "   LegislationPropertyType                     geometry  \n",
       "2                   Office  POINT (-122.33835 47.61523)  \n",
       "4                   Office  POINT (-122.33304 47.61632)  \n",
       "13     Multifamily Housing  POINT (-122.33151 47.61711)  \n",
       "31     Multifamily Housing  POINT (-122.33508 47.60024)  \n",
       "40     Multifamily Housing  POINT (-122.35480 47.61860)  \n",
       "\n",
       "[5 rows x 53 columns]"
      ]
     },
     "execution_count": 7,
     "metadata": {},
     "output_type": "execute_result"
    }
   ],
   "source": [
    "df_filtered.head()"
   ]
  },
  {
   "attachments": {},
   "cell_type": "markdown",
   "metadata": {},
   "source": [
    "## Step 1: Getting Parcel Owners from eRealProperty\n",
    "\n",
    "The first step in finding a building's owner is to find the owner of the building parcel. This is listed in [King County's eRealProperty database](https://blue.kingcounty.com/Assessor/eRealProperty/default.aspx). \n",
    "\n",
    "This script takes a list of buildings' Tax Parcel Identification Number and returns a CSV listing the current owners according to eRealProperty. Optionally, you can also produce a JSON file with the number, types, and square footage of the different units in the building.\n",
    "\n",
    "To use:\n",
    "\n",
    "1. Instantiate an instance of the `ParcelLookupHelper` class, including the file path where you want to save your results.\n",
    "2. Run the `scrape_parcel_owners` method. Params:\n",
    "    - `tax_parcel_id_numbers` (list): a list of the tax parcel IDs you want to look up\n",
    "    - `file_name` (str): the file name to save the results\n",
    "    - `get_unit_details` (bool): whether or not to create a JSON file of the types of units in each building. Defaults to `False`. \n",
    "\n",
    "Sample use:\n",
    "\n",
    "```\n",
    "scraper = ParcelLookupHelper('building_owners')\n",
    "scraper.scrape_parcel_owners([659000030, 659000220], 'building_owners_grp_1', True)\n",
    "```\n",
    "\n",
    "Two important notes: \n",
    "\n",
    "- This is a web scraping script, so it is highly dependent on the HTML structure of the Property Detail pages. Test it to make sure you're getting the correct data in case the HTML structure has changed since this script was written.\n",
    "- eRealProperty restricts you to 1,000 calls a day from a given IP address. You can divide your buildings into chunks of 1,000 and do this over several days or divide them between team members. Using different AWS or Google Cloud instances is possible but probably a bit rude. You could also use a VPN for similar results. Either way, you'll have to manually chunk this up into calls of 1,000 at least.\n"
   ]
  },
  {
   "cell_type": "code",
   "execution_count": 8,
   "metadata": {},
   "outputs": [
    {
     "name": "stdout",
     "output_type": "stream",
     "text": [
      "Processing row 0 of 10 parcel owners\n",
      "Writing parcel owners to CSV: /Users/ihc/programming/350_seattle/350_seattle_building_ownership/building_owners_downtown.csv\n",
      "Writing parcel owners to CSV: /Users/ihc/programming/350_seattle/350_seattle_building_ownership/building_owners_downtown.csv\n"
     ]
    }
   ],
   "source": [
    "# NB: This example uses only ten buildings, so it can be run quickly. \n",
    "# When you run it with a lot of buildings, this will likely take a long time to run!\n",
    "\n",
    "scraper = parcel_owners.ParcelLookupHelper(os.getcwd())\n",
    "scraper.scrape_parcel_owners(df_filtered['TaxParcelIdentificationNumber'][:10], 'building_owners_downtown')"
   ]
  },
  {
   "cell_type": "code",
   "execution_count": 11,
   "metadata": {},
   "outputs": [
    {
     "data": {
      "text/html": [
       "<div>\n",
       "<style scoped>\n",
       "    .dataframe tbody tr th:only-of-type {\n",
       "        vertical-align: middle;\n",
       "    }\n",
       "\n",
       "    .dataframe tbody tr th {\n",
       "        vertical-align: top;\n",
       "    }\n",
       "\n",
       "    .dataframe thead th {\n",
       "        text-align: right;\n",
       "    }\n",
       "</style>\n",
       "<table border=\"1\" class=\"dataframe\">\n",
       "  <thead>\n",
       "    <tr style=\"text-align: right;\">\n",
       "      <th></th>\n",
       "      <th>TaxParcelIdentificationNumber</th>\n",
       "      <th>Owner</th>\n",
       "    </tr>\n",
       "  </thead>\n",
       "  <tbody>\n",
       "    <tr>\n",
       "      <th>0</th>\n",
       "      <td>659000775</td>\n",
       "      <td>ACORN DEVELOPMENT LLC</td>\n",
       "    </tr>\n",
       "    <tr>\n",
       "      <th>1</th>\n",
       "      <td>660001605</td>\n",
       "      <td>MIDTOWN21 LLC</td>\n",
       "    </tr>\n",
       "    <tr>\n",
       "      <th>2</th>\n",
       "      <td>660002125</td>\n",
       "      <td>1823 MINOR WPT LLC +1823 MINOR MM LLC</td>\n",
       "    </tr>\n",
       "    <tr>\n",
       "      <th>3</th>\n",
       "      <td>524780-0100</td>\n",
       "      <td>NOT FOUND</td>\n",
       "    </tr>\n",
       "    <tr>\n",
       "      <th>4</th>\n",
       "      <td>695000225</td>\n",
       "      <td>101 DENNY LLC</td>\n",
       "    </tr>\n",
       "  </tbody>\n",
       "</table>\n",
       "</div>"
      ],
      "text/plain": [
       "  TaxParcelIdentificationNumber                                   Owner\n",
       "0                     659000775                  ACORN DEVELOPMENT LLC \n",
       "1                     660001605                           MIDTOWN21 LLC\n",
       "2                     660002125  1823 MINOR WPT LLC +1823 MINOR MM LLC \n",
       "3                   524780-0100                               NOT FOUND\n",
       "4                     695000225                           101 DENNY LLC"
      ]
     },
     "execution_count": 11,
     "metadata": {},
     "output_type": "execute_result"
    }
   ],
   "source": [
    "building_owners = pd.read_csv(\"building_owners_downtown.csv\", index_col=0)\n",
    "building_owners.head()"
   ]
  },
  {
   "cell_type": "code",
   "execution_count": 12,
   "metadata": {},
   "outputs": [
    {
     "name": "stderr",
     "output_type": "stream",
     "text": [
      "/usr/local/lib/python3.11/site-packages/geopandas/geodataframe.py:1538: SettingWithCopyWarning: \n",
      "A value is trying to be set on a copy of a slice from a DataFrame.\n",
      "Try using .loc[row_indexer,col_indexer] = value instead\n",
      "\n",
      "See the caveats in the documentation: https://pandas.pydata.org/pandas-docs/stable/user_guide/indexing.html#returning-a-view-versus-a-copy\n",
      "  super().__setitem__(key, value)\n"
     ]
    }
   ],
   "source": [
    "# Map tax ids to landlord name\n",
    "d = pd.Series(building_owners.Owner.values, index=building_owners.TaxParcelIdentificationNumber).to_dict()\n",
    "df_filtered['ParcelOwner'] = df_filtered['TaxParcelIdentificationNumber'].map(lambda row: d.get(row, \"\"))"
   ]
  },
  {
   "attachments": {},
   "cell_type": "markdown",
   "metadata": {},
   "source": [
    "## Step 2: Getting Company Principals from Washington State Corporations and Charities Filing System\n",
    "The main problem we're trying to solve is that there are multiple data sources (OSE building benchmark, Washington tax parcel info, and now corporation filings), and elements in one source don't always precisely map to elements in another. In this step, we take the tax parcel owner identified in step 1 and try to figure out the corresponding business in the [Washington Corporations and Charities Filing System (CCFS)](https://www.sos.wa.gov/corporations-charities). \n",
    "\n",
    "Once we've identified the equivalent entry in the CCFS database, we can pull that business's principals. The principal of a company is usually someone who has a level of ownership and responsibility over the company. When a large corporation is creating lots of holding LLCs, they tend to have a select group of people act as principals across all the shell companies. \n",
    "\n",
    "We use the listed principals as a one datapoint of many for determining what larger corporation owns this shell company. If we find a group of people listed as principals on a bunch of companies, we can 1) usually quickly find these people's employer and 2) quickly determine that all these companies with the same principals likely are all owned by the same, larger corporation. \n",
    "\n",
    "\n"
   ]
  },
  {
   "attachments": {},
   "cell_type": "markdown",
   "metadata": {},
   "source": [
    "### Step 2.1: Map Parcel Owner Names to Businesses in the CCF Database\n",
    "The CCFS database's search engine tends to return almost any partial string match, which is overwhelming, but we can programmatically look up a business name and with some regex string matching magic, we can usually find the equivalent business in the CCFS database. For example, the tax parcel owner `ACORN DEVELOPMENT LLC` might show up in the CCFS database as `ACORN DEVELOPMENT L.L.C.`. The CCFS database doesn't have the best search engine ever, but we can automatically confirm on our end that the CCFS entry is equivalent to the tax parcel owner name. \n",
    "\n",
    "That being said, regex string matching can only do so much for us. Sometimes, we need a human in the loop to identify if a search result in the CCFS database really does match up with the tax parcel owner. That's why when running `lookup_helper.get_company_matches_and_export`, there are three output files: \n",
    "\n",
    "- `Exact_matches_i.csv`: results where search term matches a result in CCFS database.  \n",
    "- `Potential_matches_i.csv`: when search term doesn't exactly match, there needs to be some human verification here to determine.  \n",
    "- `Additional_matches_i.csv`: very weak matches in case potential_matches didn't yield enough results. \n",
    "\n",
    "Where `i` is the batch number. Looking up entries in the CCFS database can be time-consuming, so splitting up your tax parcel owner names into batches might be helpful. \n",
    "\n",
    "These output files will have a mapping from the tax parcel owner, which is referred to as the `SearchTerm`, to the equivalent CCFS entry, indicated with `BusinessName`. A human will need to go into the `potential_matches_i.csv` and add the column `is_match` to flag if the search term and the business name are likely to be equivalent. An example of this is that `SATO FAMILY LTD PARTNERSHIP` (the search term, ie. the tax parcel owner name) and `SATO FAMILY LIMITED PARTNERSHIP` (the result in the CCFS database) are highly likely to be the same companies. "
   ]
  },
  {
   "cell_type": "code",
   "execution_count": 13,
   "metadata": {},
   "outputs": [],
   "source": [
    "# Get a list of all the unique tax parcel owners identified in previous steps\n",
    "unique_not_downtown_owners = df_filtered['ParcelOwner'].unique()\n",
    "unique_not_downtown_owners = pd.DataFrame(unique_not_downtown_owners, columns=['owner_name'])\n",
    "unique_not_downtown_owners = unique_not_downtown_owners[~unique_not_downtown_owners['owner_name'].isin(['NOT FOUND', 'UNDEFINED'])]\n",
    "unique_not_downtown_owners.to_csv('unique_downtown_owners.csv')\n",
    "owner_search_list = list(unique_not_downtown_owners['owner_name'])"
   ]
  },
  {
   "cell_type": "code",
   "execution_count": 14,
   "metadata": {},
   "outputs": [
    {
     "name": "stdout",
     "output_type": "stream",
     "text": [
      "Saving output files to /Users/ihc/programming/350_seattle/350_seattle_building_ownership\n"
     ]
    }
   ],
   "source": [
    "lookup_helper = corp_owners.LookupCompaniesHelper(os.getcwd()) # Pass the directory to which you want the output cvs's saved\n",
    "lookup_helper.get_company_matches_and_export(owner_search_list[:10], 1) # Processing only 1 batch of data"
   ]
  },
  {
   "attachments": {},
   "cell_type": "markdown",
   "metadata": {},
   "source": [
    "### Step 2.2: Get all companies and their principals\n",
    "Now that we've mapped tax parcel owner names to their entries in the CCFS database, we create a list of all the companies and all the principals registered to that company. For each company in our list, there will be a row in the output for each principal we found when looking up the company in the CCFS database. This means there are more likely than not multiple rows in the output that correspond to one company. This helps us group together companies in later steps to help determine which companies might all be owned by the same corporation, saving the human researchers some time. \n",
    "\n",
    "\n",
    "For potential matches, make sure to go in and manually create and label the `is_match` column. "
   ]
  },
  {
   "cell_type": "code",
   "execution_count": 15,
   "metadata": {},
   "outputs": [],
   "source": [
    "group_helper = corp_owners.GroupCompaniesHelper(os.getcwd(), \"companies_and_principals.csv\") # The output folder and file name to save to "
   ]
  },
  {
   "cell_type": "code",
   "execution_count": 24,
   "metadata": {},
   "outputs": [],
   "source": [
    "num_batches = 1  # Increase the range based on how many batches you processed previously\n",
    "\n",
    "# For brevity, we will only search the exact matches found in Step 1\n",
    "exact_match_df = pd.read_csv('exact_matches_1.csv')\n",
    "all_matches = group_helper.get_companies_principals(exact_match_df)"
   ]
  },
  {
   "attachments": {},
   "cell_type": "markdown",
   "metadata": {},
   "source": [
    "### Step 2.3: Group Companies by shared principals\n",
    "Now that we have all of the companies in CCFS database and all of the principals registered to that company, we can group all of the results by shared principals. This isn't absolutely vital, but can help the human researchers later on save time by not having to do duplicated work. The output data has the following features: \n",
    "\n",
    "- SearchTerm: Original tax parcel owner name for the building in the OSE building emissions dataset (aka Landlord)\n",
    "- BusinessName: The business name in the CCFS database that we have matched to the SearchTerm\n",
    "- PotentialRelatedCompany: A company that may be related to the company in the BusinessName field. If this field is the same as BusinessName, the row represents the \"parent\" or \"hub\" company that we are trying to match companies to\n",
    "- UBINumber: ID number\n",
    "- BusinessId: ID number\n",
    "- Address: Address of the PotentialRelatedCompany\n",
    "- Status: If the company is active/closed, etc.\n",
    "- Principals: A comma separated, alphabetized list of the PotenitalRelatedCompany's principals \n",
    "- isMatch: Your best guess about whether or not the PotentialRelatedCompany is connected to the BusinessName\n",
    "- notes: any useful notes about the company or explaining the isMatch value\n",
    "\n",
    "With this final step complete, we can pass off the data to the human researchers who will now use all the provided info to determine what larger corporation owns these holding companies, and from there map out the true ownership of buildings in Seattle. "
   ]
  },
  {
   "cell_type": "code",
   "execution_count": 25,
   "metadata": {},
   "outputs": [
    {
     "name": "stdout",
     "output_type": "stream",
     "text": [
      "Saving to /Users/ihc/programming/350_seattle/350_seattle_building_ownershipcompanies_and_principals.csv\n",
      "Processing row 0 of principal_match_list, results is 1\n"
     ]
    }
   ],
   "source": [
    "companies_and_matches = group_helper.group_companies_by_principals(all_matches)"
   ]
  },
  {
   "attachments": {},
   "cell_type": "markdown",
   "metadata": {},
   "source": [
    "# Step 3: Finding the Principals' Employer\n",
    "Automation can only take us so far, and at some point a human needs to come in and use their search-engine super powers to determine building ownership. In our experience, building name and address were useful datapoints as well as company principals. For more information see the rest of the Electrify report. "
   ]
  }
 ],
 "metadata": {
  "kernelspec": {
   "display_name": "Python 3 (ipykernel)",
   "language": "python",
   "name": "python3"
  },
  "language_info": {
   "codemirror_mode": {
    "name": "ipython",
    "version": 3
   },
   "file_extension": ".py",
   "mimetype": "text/x-python",
   "name": "python",
   "nbconvert_exporter": "python",
   "pygments_lexer": "ipython3",
   "version": "3.11.3"
  }
 },
 "nbformat": 4,
 "nbformat_minor": 4
}
